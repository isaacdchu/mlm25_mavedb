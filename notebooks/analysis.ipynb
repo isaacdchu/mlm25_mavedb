{
 "cells": [
  {
   "cell_type": "markdown",
   "id": "0f10c129",
   "metadata": {},
   "source": [
    "# Data Visualization and Statistics\n",
    "Examines the raw training and test data, as well as new data pulled from external sources"
   ]
  },
  {
   "cell_type": "code",
   "execution_count": null,
   "id": "67d57182",
   "metadata": {},
   "outputs": [],
   "source": [
    "# All imports\n",
    "import pandas as pd\n",
    "import numpy as np\n",
    "import seaborn as sns\n",
    "import pickle\n",
    "import utils"
   ]
  },
  {
   "cell_type": "markdown",
   "id": "9d6cf74e",
   "metadata": {},
   "source": [
    "# Raw training and test data"
   ]
  },
  {
   "cell_type": "code",
   "execution_count": null,
   "id": "666aadbd",
   "metadata": {},
   "outputs": [],
   "source": [
    "# Load raw data\n",
    "raw_train_df = pd.read_csv(utils.RAW_TRAIN_PATH, dtype={\"accession\": str, \"score\": float})\n",
    "raw_test_df = pd.read_csv(utils.RAW_TEST_PATH, dtype={\"accession\": str, \"score\": float})"
   ]
  },
  {
   "cell_type": "code",
   "execution_count": null,
   "id": "455849aa",
   "metadata": {},
   "outputs": [],
   "source": [
    "# TODO: visualize something about the data here"
   ]
  }
 ],
 "metadata": {
  "kernelspec": {
   "display_name": "aasp",
   "language": "python",
   "name": "python3"
  },
  "language_info": {
   "name": "python",
   "version": "3.13.7"
  }
 },
 "nbformat": 4,
 "nbformat_minor": 5
}
