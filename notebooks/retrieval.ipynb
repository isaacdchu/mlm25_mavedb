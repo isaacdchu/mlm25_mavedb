{
 "cells": [
  {
   "cell_type": "markdown",
   "id": "f94adbd4",
   "metadata": {},
   "source": [
    "# External Data Retrieval\n",
    "Uses external APIs for more data. Saves data for further analysis and offline use."
   ]
  },
  {
   "cell_type": "code",
   "execution_count": null,
   "id": "bb17dc4c",
   "metadata": {},
   "outputs": [],
   "source": [
    "# All imports\n",
    "import pandas as pd\n",
    "import pickle\n",
    "import utils"
   ]
  },
  {
   "cell_type": "markdown",
   "id": "8f7446a7",
   "metadata": {},
   "source": [
    "## Data retrieved from the Ensembl API"
   ]
  },
  {
   "cell_type": "code",
   "execution_count": null,
   "id": "9d0e7f97",
   "metadata": {},
   "outputs": [],
   "source": [
    "# Ensembl Protein ID to Sequence mapping\n",
    "train_ensp_sequence_map: dict[str, str] = {}\n",
    "test_ensp_sequence_map: dict[str, str] = {}\n",
    "\n",
    "train_ensp_series: pd.Series = pd.read_csv(utils.RAW_TRAIN_PATH, usecols=[\"ensp\"], dtype={\"ensp\": str})[\"ensp\"]\n",
    "test_ensp_series: pd.Series = pd.read_csv(utils.RAW_TEST_PATH, usecols=[\"ensp\"], dtype={\"ensp\": str})[\"ensp\"]\n",
    "\n",
    "train_sequence_series: pd.Series = train_ensp_series.apply(lambda ensp: utils.get_full_sequence(ensp, train_ensp_sequence_map))\n",
    "test_sequence_series: pd.Series = test_ensp_series.apply(lambda ensp: utils.get_full_sequence(ensp, test_ensp_sequence_map))\n",
    "\n",
    "# Save the mappings using pickle\n",
    "# TODO: save pickle files to utils.TRAIN_ENSP_SEQUENCE_MAP_PATH and utils.TEST_ENSP_SEQUENCE_MAP_PATH"
   ]
  },
  {
   "cell_type": "code",
   "execution_count": null,
   "id": "0add2a34",
   "metadata": {},
   "outputs": [],
   "source": [
    "# Ensembl Variant Effect Predictor (VEP)"
   ]
  },
  {
   "cell_type": "markdown",
   "id": "0591e7f0",
   "metadata": {},
   "source": [
    "## Data retrieved from the MaveDB API"
   ]
  }
 ],
 "metadata": {
  "kernelspec": {
   "display_name": "aasp",
   "language": "python",
   "name": "python3"
  },
  "language_info": {
   "codemirror_mode": {
    "name": "ipython",
    "version": 3
   },
   "file_extension": ".py",
   "mimetype": "text/x-python",
   "name": "python",
   "nbconvert_exporter": "python",
   "pygments_lexer": "ipython3",
   "version": "3.13.7"
  }
 },
 "nbformat": 4,
 "nbformat_minor": 5
}
