{
 "cells": [
  {
   "cell_type": "markdown",
   "id": "f94adbd4",
   "metadata": {},
   "source": [
    "# External Data Retrieval\n",
    "Uses external APIs for more data. Saves data for further analysis and offline use."
   ]
  },
  {
   "cell_type": "code",
   "execution_count": null,
   "id": "bb17dc4c",
   "metadata": {},
   "outputs": [],
   "source": [
    "# All imports\n",
    "import pandas as pd\n",
    "import pickle\n",
    "import utils"
   ]
  },
  {
   "cell_type": "code",
   "execution_count": null,
   "id": "9d0e7f97",
   "metadata": {},
   "outputs": [],
   "source": [
    "known_map: dict[str, str] = {}\n",
    "train_ensp_series: pd.Series = pd.read_csv(utils.RAW_TRAIN_PATH, usecols=[\"ensp\"], dtype={\"ensp\": str})[\"ensp\"]\n",
    "test_ensp_series: pd.Series = pd.read_csv(utils.RAW_TEST_PATH, usecols=[\"ensp\"], dtype={\"ensp\": str})[\"ensp\"]\n",
    "\n",
    "train_sequence_series: pd.Series = train_ensp_series.apply(lambda ensp: utils.get_full_sequence(ensp, known_map))\n",
    "test_sequence_series: pd.Series = test_ensp_series.apply(lambda ensp: utils.get_full_sequence(ensp, known_map))\n",
    "\n",
    "print(known_map)"
   ]
  },
  {
   "cell_type": "code",
   "execution_count": null,
   "id": "0add2a34",
   "metadata": {},
   "outputs": [],
   "source": [
    "# TODO: retrieve more data and save to pickle files"
   ]
  }
 ],
 "metadata": {
  "kernelspec": {
   "display_name": "aasp",
   "language": "python",
   "name": "python3"
  },
  "language_info": {
   "codemirror_mode": {
    "name": "ipython",
    "version": 3
   },
   "file_extension": ".py",
   "mimetype": "text/x-python",
   "name": "python",
   "nbconvert_exporter": "python",
   "pygments_lexer": "ipython3",
   "version": "3.13.7"
  }
 },
 "nbformat": 4,
 "nbformat_minor": 5
}
