{
 "cells": [
  {
   "cell_type": "code",
   "execution_count": null,
   "id": "c29d17de",
   "metadata": {
    "vscode": {
     "languageId": "plaintext"
    }
   },
   "outputs": [],
   "source": [
    "import pandas as pd\n",
    "import matplotlib.pyplot as plt\n",
    "import seaborn as sns\n"
   ]
  },
  {
   "cell_type": "code",
   "execution_count": null,
   "id": "3c40bd5a",
   "metadata": {
    "vscode": {
     "languageId": "plaintext"
    }
   },
   "outputs": [],
   "source": [
    "df = pd.read_csv(\"data/train.csv\")\n",
    "print(df.head())"
   ]
  },
  {
   "cell_type": "code",
   "execution_count": null,
   "id": "89a2588d",
   "metadata": {
    "vscode": {
     "languageId": "plaintext"
    }
   },
   "outputs": [],
   "source": [
    "# histogram\n",
    "sns.histplot(df[\"score\"], bins=30)\n",
    "plt.title(\"Distribution of effect scores\")fgrffrf\n",
    "plt.show()\n",
    "\n",
    "# base changes# histogramfgrff\n",
    "sns.histplot(df[\"score\"], bins=30)\n",
    "plt.title(\"Distribution of effect scores\")\n",
    "plt.show()\n",
    "\n",
    "# base changesf\n",
    "df[\"mut\"] = df[\"ref_nt\"] + \"→\" + df[\"alt_nt\"]\n",
    "sns.countplot(y=df[\"mut\"], order=df[\"mut\"].value_counts().index)\n",
    "plt.title(\"Counts of base substitutions\")\n",
    "plt.show()\n",
    "\n",
    "# score vs position\n",
    "sns.scatterplot(x=df[\"protein_pos\"], y=df[\"score\"])\n",
    "plt.title(\"Effect score by protein position\")\n",
    "plt.show()\n",
    "\n",
    "df[\"mut\"] = df[\"ref_nt\"] + \"→\" + df[\"alt_nt\"]\n",
    "sns.countplot(y=df[\"mut\"], order=df[\"mut\"].value_counts().index)\n",
    "plt.title(\"Counts of base substitutions\")\n",
    "plt.show()\n",
    "\n",
    "# score vs position\n",
    "sns.scatterplot(x=df[\"protein_pos\"], y=df[\"score\"])\n",
    "plt.title(\"Effect score by protein position\")\n",
    "plt.show()\n"
   ]
  }
 ],
 "metadata": {
  "language_info": {
   "name": "python"
  }
 },
 "nbformat": 4,
 "nbformat_minor": 5
}
